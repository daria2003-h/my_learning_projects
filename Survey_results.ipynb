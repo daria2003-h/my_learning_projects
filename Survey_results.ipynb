{
 "cells": [
  {
   "cell_type": "code",
   "execution_count": 2,
   "id": "9b5fd745",
   "metadata": {},
   "outputs": [
    {
     "name": "stdout",
     "output_type": "stream",
     "text": [
      "Кількість респондентів: 65437\n"
     ]
    }
   ],
   "source": [
    "import pandas as pd\n",
    "\n",
    "#0.Завантажуємо CSV файл в DataFrame\n",
    "survey_results = pd.read_csv(\"C:/Users/PC/Desktop/Neuer_Ordner/survey_results_public.csv\")\n",
    "\n",
    "#1. Скільки респондентів пройшли опитування?\n",
    "num_respondents = survey_results.shape[0]\n",
    "\n",
    "print(f'Кількість респондентів: {num_respondents}')"
   ]
  },
  {
   "cell_type": "code",
   "execution_count": 14,
   "id": "08176f75",
   "metadata": {},
   "outputs": [
    {
     "name": "stdout",
     "output_type": "stream",
     "text": [
      "   ResponseId                      MainBranch                 Age  \\\n",
      "0           1  I am a developer by profession  Under 18 years old   \n",
      "1           2  I am a developer by profession     35-44 years old   \n",
      "2           3  I am a developer by profession     45-54 years old   \n",
      "3           4           I am learning to code     18-24 years old   \n",
      "4           5  I am a developer by profession     18-24 years old   \n",
      "\n",
      "            Employment RemoteWork   Check  \\\n",
      "0  Employed, full-time     Remote  Apples   \n",
      "1  Employed, full-time     Remote  Apples   \n",
      "2  Employed, full-time     Remote  Apples   \n",
      "3   Student, full-time        NaN  Apples   \n",
      "4   Student, full-time        NaN  Apples   \n",
      "\n",
      "                                    CodingActivities  \\\n",
      "0                                              Hobby   \n",
      "1  Hobby;Contribute to open-source projects;Other...   \n",
      "2  Hobby;Contribute to open-source projects;Other...   \n",
      "3                                                NaN   \n",
      "4                                                NaN   \n",
      "\n",
      "                                             EdLevel  \\\n",
      "0                          Primary/elementary school   \n",
      "1       Bachelor’s degree (B.A., B.S., B.Eng., etc.)   \n",
      "2    Master’s degree (M.A., M.S., M.Eng., MBA, etc.)   \n",
      "3  Some college/university study without earning ...   \n",
      "4  Secondary school (e.g. American high school, G...   \n",
      "\n",
      "                                           LearnCode  \\\n",
      "0                             Books / Physical media   \n",
      "1  Books / Physical media;Colleague;On the job tr...   \n",
      "2  Books / Physical media;Colleague;On the job tr...   \n",
      "3  Other online resources (e.g., videos, blogs, f...   \n",
      "4  Other online resources (e.g., videos, blogs, f...   \n",
      "\n",
      "                                     LearnCodeOnline  ... JobSatPoints_6  \\\n",
      "0                                                NaN  ...            NaN   \n",
      "1  Technical documentation;Blogs;Books;Written Tu...  ...            0.0   \n",
      "2  Technical documentation;Blogs;Books;Written Tu...  ...            NaN   \n",
      "3  Stack Overflow;How-to videos;Interactive tutorial  ...            NaN   \n",
      "4  Technical documentation;Blogs;Written Tutorial...  ...            NaN   \n",
      "\n",
      "  JobSatPoints_7 JobSatPoints_8 JobSatPoints_9 JobSatPoints_10  \\\n",
      "0            NaN            NaN            NaN             NaN   \n",
      "1            0.0            0.0            0.0             0.0   \n",
      "2            NaN            NaN            NaN             NaN   \n",
      "3            NaN            NaN            NaN             NaN   \n",
      "4            NaN            NaN            NaN             NaN   \n",
      "\n",
      "  JobSatPoints_11           SurveyLength SurveyEase ConvertedCompYearly JobSat  \n",
      "0             NaN                    NaN        NaN                 NaN    NaN  \n",
      "1             0.0                    NaN        NaN                 NaN    NaN  \n",
      "2             NaN  Appropriate in length       Easy                 NaN    NaN  \n",
      "3             NaN               Too long       Easy                 NaN    NaN  \n",
      "4             NaN              Too short       Easy                 NaN    NaN  \n",
      "\n",
      "[5 rows x 114 columns]\n"
     ]
    }
   ],
   "source": [
    "print(survey_results.head())"
   ]
  },
  {
   "cell_type": "code",
   "execution_count": 3,
   "id": "9eb052ff",
   "metadata": {},
   "outputs": [
    {
     "name": "stdout",
     "output_type": "stream",
     "text": [
      "['ResponseId', 'MainBranch', 'Age', 'Employment', 'RemoteWork', 'Check', 'CodingActivities', 'EdLevel', 'LearnCode', 'LearnCodeOnline', 'TechDoc', 'YearsCode', 'YearsCodePro', 'DevType', 'OrgSize', 'PurchaseInfluence', 'BuyNewTool', 'BuildvsBuy', 'TechEndorse', 'Country', 'Currency', 'CompTotal', 'LanguageHaveWorkedWith', 'LanguageWantToWorkWith', 'LanguageAdmired', 'DatabaseHaveWorkedWith', 'DatabaseWantToWorkWith', 'DatabaseAdmired', 'PlatformHaveWorkedWith', 'PlatformWantToWorkWith', 'PlatformAdmired', 'WebframeHaveWorkedWith', 'WebframeWantToWorkWith', 'WebframeAdmired', 'EmbeddedHaveWorkedWith', 'EmbeddedWantToWorkWith', 'EmbeddedAdmired', 'MiscTechHaveWorkedWith', 'MiscTechWantToWorkWith', 'MiscTechAdmired', 'ToolsTechHaveWorkedWith', 'ToolsTechWantToWorkWith', 'ToolsTechAdmired', 'NEWCollabToolsHaveWorkedWith', 'NEWCollabToolsWantToWorkWith', 'NEWCollabToolsAdmired', 'OpSysPersonal use', 'OpSysProfessional use', 'OfficeStackAsyncHaveWorkedWith', 'OfficeStackAsyncWantToWorkWith', 'OfficeStackAsyncAdmired', 'OfficeStackSyncHaveWorkedWith', 'OfficeStackSyncWantToWorkWith', 'OfficeStackSyncAdmired', 'AISearchDevHaveWorkedWith', 'AISearchDevWantToWorkWith', 'AISearchDevAdmired', 'NEWSOSites', 'SOVisitFreq', 'SOAccount', 'SOPartFreq', 'SOHow', 'SOComm', 'AISelect', 'AISent', 'AIBen', 'AIAcc', 'AIComplex', 'AIToolCurrently Using', 'AIToolInterested in Using', 'AIToolNot interested in Using', 'AINextMuch more integrated', 'AINextNo change', 'AINextMore integrated', 'AINextLess integrated', 'AINextMuch less integrated', 'AIThreat', 'AIEthics', 'AIChallenges', 'TBranch', 'ICorPM', 'WorkExp', 'Knowledge_1', 'Knowledge_2', 'Knowledge_3', 'Knowledge_4', 'Knowledge_5', 'Knowledge_6', 'Knowledge_7', 'Knowledge_8', 'Knowledge_9', 'Frequency_1', 'Frequency_2', 'Frequency_3', 'TimeSearching', 'TimeAnswering', 'Frustration', 'ProfessionalTech', 'ProfessionalCloud', 'ProfessionalQuestion', 'Industry', 'JobSatPoints_1', 'JobSatPoints_4', 'JobSatPoints_5', 'JobSatPoints_6', 'JobSatPoints_7', 'JobSatPoints_8', 'JobSatPoints_9', 'JobSatPoints_10', 'JobSatPoints_11', 'SurveyLength', 'SurveyEase', 'ConvertedCompYearly', 'JobSat']\n"
     ]
    }
   ],
   "source": [
    "print(survey_results.columns.tolist())"
   ]
  },
  {
   "cell_type": "code",
   "execution_count": 7,
   "id": "6db9f869",
   "metadata": {},
   "outputs": [
    {
     "name": "stdout",
     "output_type": "stream",
     "text": [
      "Кількість респондентів, які відповіли на всі запитання: 0\n"
     ]
    }
   ],
   "source": [
    "#2.Скільки респондентів відповіли на всі запитання?\n",
    "num_complete_responses = survey_results[survey_results.notna().all(axis=1)].shape[0]\n",
    "\n",
    "print(f'Кількість респондентів, які відповіли на всі запитання: {num_complete_responses}')"
   ]
  },
  {
   "cell_type": "code",
   "execution_count": 19,
   "id": "c665b96e",
   "metadata": {},
   "outputs": [
    {
     "name": "stdout",
     "output_type": "stream",
     "text": [
      "Середнє значення досвіду: 11\n",
      "Медіана досвіду: 9.0\n",
      "Мода досвіду: 3.0\n"
     ]
    }
   ],
   "source": [
    "#3.Які значення мір центральної тенденції для досвіду (WorkExp) респондентів?\n",
    "work_exp = survey_results[\"WorkExp\"].dropna()\n",
    "mean_exp = round(work_exp.mean())\n",
    "median_exp= work_exp.median()\n",
    "mode_exp = work_exp.mode()[0]\n",
    "\n",
    "print(f\"Середнє значення досвіду: {mean_exp}\")\n",
    "print(f\"Медіана досвіду: {median_exp}\")\n",
    "print(f\"Мода досвіду: {mode_exp}\")"
   ]
  },
  {
   "cell_type": "code",
   "execution_count": 29,
   "id": "bc3eb185",
   "metadata": {},
   "outputs": [
    {
     "name": "stdout",
     "output_type": "stream",
     "text": [
      "Кількість респондентів, що працюють віддалено: 20831\n"
     ]
    }
   ],
   "source": [
    "#4.Скільки респондентів працює віддалено?\n",
    "remote= survey_results[survey_results[\"RemoteWork\"]== \"Remote\"].shape[0]\n",
    "print(f\"Кількість респондентів, що працюють віддалено: {remote}\")\n",
    "\n"
   ]
  },
  {
   "cell_type": "code",
   "execution_count": 35,
   "id": "1325377b",
   "metadata": {},
   "outputs": [
    {
     "name": "stdout",
     "output_type": "stream",
     "text": [
      "Працювало з Python 30795 респондентів\n"
     ]
    }
   ],
   "source": [
    "#5.Який відсоток респондентів програмує на Python?\n",
    "python =survey_results[survey_results[\"LanguageHaveWorkedWith\"].str.contains(\"Python\", na = False)].shape[0] \n",
    "print(f\"Працювало з Python {python} респондентів\")"
   ]
  },
  {
   "cell_type": "code",
   "execution_count": 51,
   "id": "58ec5618",
   "metadata": {},
   "outputs": [
    {
     "name": "stdout",
     "output_type": "stream",
     "text": [
      "Кількість респондентів, що навчалися за допомогою онлайн курсів: 30549\n"
     ]
    }
   ],
   "source": [
    "#6.Скільки респондентів навчалося програмувати за допомогою онлайн курсів?\n",
    "online_courses_num = survey_results[survey_results[\"LearnCodeOnline\"].str.contains(\"Online Courses\", na=False, case=False)].shape[0]\n",
    "print(f\"Кількість респондентів, що навчалися за допомогою онлайн курсів: {online_courses_num}\")"
   ]
  },
  {
   "cell_type": "code",
   "execution_count": null,
   "id": "f2aaca5e",
   "metadata": {},
   "outputs": [],
   "source": [
    "#7.Серед респондентів що програмують на Python в групуванні по країнам, яка середня та медіанна сума компенсації (ConvertedCompYearly) в кожній країні?\n",
    "#print(survey_results[\"ConvertedCompYearly\"].dropna().head(10))\n",
    "python =survey_results[survey_results[\"LanguageHaveWorkedWith\"].str.contains(\"Python\", na = False)]\n",
    "compensation = python.groupby(\"Country\")[\"ConvertedCompYearly\"].agg([\"mean\", \"median\"]).reset_index()\n",
    "compensation_summary= compensation.sort_values(by = \"median\", ascending = False)\n",
    "print(compensation_summary.head(20))"
   ]
  },
  {
   "cell_type": "code",
   "execution_count": null,
   "id": "86966bf1",
   "metadata": {},
   "outputs": [],
   "source": [
    "#8.Які рівні освіти мають 5 респондентів з найбільшою компенсацією?\n",
    "education_level= survey_results[\"EdLevel\"]\n",
    "compensation_level= survey_results[survey_results[\"ConvertedCompYearly\"].notna()]\n",
    "compensation_level= compensation_level.sort_values(by = \"ConvertedCompYearly\", ascending = False)\n",
    "top_5_respondents= compensation_level.head(5)\n",
    "top_5_respondents = top_5_respondents.reset_index(drop=True)\n",
    "education_level = top_5_respondents[[\"Country\", \"EdLevel\", \"ConvertedCompYearly\"]]\n",
    "print(education_level)"
   ]
  },
  {
   "cell_type": "code",
   "execution_count": 9,
   "id": "c3e5ed90",
   "metadata": {},
   "outputs": [
    {
     "name": "stdout",
     "output_type": "stream",
     "text": [
      "Age\n",
      "18-24 years old       56.0\n",
      "25-34 years old       46.0\n",
      "35-44 years old       42.0\n",
      "45-54 years old       42.0\n",
      "55-64 years old       40.0\n",
      "65 years or older     38.0\n",
      "Prefer not to say     45.0\n",
      "Under 18 years old    65.0\n",
      "dtype: float64\n"
     ]
    }
   ],
   "source": [
    "#Бонусні запитання:\n",
    "\n",
    "#1.В кожній віковій категорії, який відсоток респондентів програмує на Python?\n",
    "python =survey_results[survey_results[\"LanguageHaveWorkedWith\"].str.contains(\"Python\", na = False)]\n",
    "python_grouped = python.groupby( by = \"Age\").size()\n",
    "total_grouped = survey_results.groupby(by = \"Age\").size()\n",
    "python_proportion = round(python_grouped/total_grouped*100)\n",
    "print(python_proportion)\n"
   ]
  },
  {
   "cell_type": "code",
   "execution_count": 15,
   "id": "8c4cfa8b",
   "metadata": {},
   "outputs": [
    {
     "name": "stdout",
     "output_type": "stream",
     "text": [
      "Industry\n",
      "Software Development                          768\n",
      "Other:                                        239\n",
      "Healthcare                                    156\n",
      "Fintech                                       156\n",
      "Internet, Telecomm or Information Services    145\n",
      "Retail and Consumer Services                  106\n",
      "Media & Advertising Services                  103\n",
      "Computer Systems Design and Services           69\n",
      "Banking/Financial Services                     69\n",
      "Government                                     69\n",
      "Name: count, dtype: int64\n"
     ]
    }
   ],
   "source": [
    "#2.Серед респондентів що знаходяться в 75 перцентилі за компенсацією середнього і працюють віддалено, які індустрії є найрозповсюдженішими?\n",
    "percentile_75 = survey_results[\"ConvertedCompYearly\"].quantile(0.75)\n",
    "remote_high_income = survey_results[(survey_results[\"ConvertedCompYearly\"]>= percentile_75) & (survey_results[\"RemoteWork\"]== \"Remote\")]\n",
    "common_industries = remote_high_income[\"Industry\"].value_counts()\n",
    "print(common_industries.head(10))\n"
   ]
  }
 ],
 "metadata": {
  "kernelspec": {
   "display_name": "Python 3 (ipykernel)",
   "language": "python",
   "name": "python3"
  },
  "language_info": {
   "codemirror_mode": {
    "name": "ipython",
    "version": 3
   },
   "file_extension": ".py",
   "mimetype": "text/x-python",
   "name": "python",
   "nbconvert_exporter": "python",
   "pygments_lexer": "ipython3",
   "version": "3.12.6"
  }
 },
 "nbformat": 4,
 "nbformat_minor": 5
}
